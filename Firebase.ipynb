{
 "cells": [
  {
   "cell_type": "markdown",
   "id": "025b2df5-6473-4375-922b-c6f587246aea",
   "metadata": {},
   "source": [
    "Question 5: Save your scraped data and image analytics results into the Firebase database (20\n",
    "points)"
   ]
  },
  {
   "cell_type": "code",
   "execution_count": 44,
   "id": "210e6526-7b40-4164-b2d3-855ea2f67a97",
   "metadata": {},
   "outputs": [
    {
     "name": "stdout",
     "output_type": "stream",
     "text": [
      "TF2 Results successfully uploaded to Firebase!\n"
     ]
    }
   ],
   "source": [
    "import firebase_admin\n",
    "from firebase_admin import credentials, db\n",
    "import pandas as pd\n",
    "\n",
    "# 1. Load your CSV\n",
    "df = pd.read_csv('TF2_Results.csv')\n",
    "\n",
    "# 2. Clean Data\n",
    "df = df.fillna(\"\")\n",
    "df = df.astype(str)\n",
    "df.columns = df.columns.str.replace(r\"[.$#[\\]/]\", \"\", regex=True)\n",
    "\n",
    "# 3. Load Firebase credentials\n",
    "cred = credentials.Certificate(\"privatekey.json\")\n",
    "\n",
    "# 4. Initialize Firebase\n",
    "if not firebase_admin._apps:\n",
    "    firebase_admin.initialize_app(cred, {\n",
    "    'databaseURL': 'https://your-project-id-default-rtdb.firebaseio.com'\n",
    "    # Replace 'your-project-id' with your actual Firebase project ID in the database URL\n",
    "    })\n",
    "\n",
    "# 5. Reference new/fresh path to avoid conflict\n",
    "ref = db.reference(\"Results/TF2/TF2_Results\")\n",
    "\n",
    "# 6. Upload to Firebase\n",
    "ref.set(df.to_dict(orient=\"records\"))\n",
    "\n",
    "print(\"TF2 Results successfully uploaded to Firebase!\")\n"
   ]
  },
  {
   "cell_type": "code",
   "execution_count": 30,
   "id": "512d6df1-2e09-42bc-8481-94dfedd475ff",
   "metadata": {},
   "outputs": [
    {
     "name": "stdout",
     "output_type": "stream",
     "text": [
      "TF2_RekognitionResults successfully uploaded!\n"
     ]
    }
   ],
   "source": [
    "df_rekog = pd.read_csv(\"TF2_RekognitionResults.csv\")\n",
    "df_rekog = df_rekog.fillna(\"\").astype(str)\n",
    "df_rekog.columns = df_rekog.columns.str.replace(r\"[.$#[\\]/]\", \"\", regex=True)\n",
    "\n",
    "ref_rekog = db.reference(\"Results/TF2/TF2_RekognitionResults\")\n",
    "ref_rekog.set(df_rekog.to_dict(orient=\"records\"))\n",
    "\n",
    "print(\"TF2_RekognitionResults successfully uploaded!\")\n"
   ]
  },
  {
   "cell_type": "code",
   "execution_count": 32,
   "id": "5880f8bf-70a1-490a-b1cf-64ee6aea1499",
   "metadata": {},
   "outputs": [
    {
     "name": "stdout",
     "output_type": "stream",
     "text": [
      "TF2_ImageProps_Results successfully uploaded!\n"
     ]
    }
   ],
   "source": [
    "df_image = pd.read_csv(\"TF2_ImageProps_Results.csv\")\n",
    "df_image = df_image.fillna(\"\").astype(str)\n",
    "df_image.columns = df_image.columns.str.replace(r\"[.$#[\\]/]\", \"\", regex=True)\n",
    "\n",
    "ref_image = db.reference(\"Results/TF2/TF2_ImageProps_Results\")\n",
    "ref_image.set(df_image.to_dict(orient=\"records\"))\n",
    "\n",
    "print(\"TF2_ImageProps_Results successfully uploaded!\")\n"
   ]
  },
  {
   "cell_type": "markdown",
   "id": "9a9a365d-2434-48a1-a4d3-91a524f98dba",
   "metadata": {},
   "source": [
    "While uploading our results to Firebase, I faced two main issues:\n",
    "\n",
    "NaN Values Error:\n",
    "Some cells in our CSV had missing values (NaN), especially when no labels or image properties were detected.\n",
    "Fix: We filled all missing values and converted everything to strings using:\n",
    "df = df.fillna(\"\").astype(str)\n",
    "\n",
    "Invalid Characters in Keys\n",
    "Firebase doesn’t allow certain special characters (like ., /, $, [, ]) in keys, but our CSV column names had them.\n",
    "Fix: We cleaned the column names as in the code above."
   ]
  },
  {
   "cell_type": "code",
   "execution_count": 36,
   "id": "b4439507-43ab-4a9c-83ed-cd6b29798028",
   "metadata": {},
   "outputs": [
    {
     "name": "stderr",
     "output_type": "stream",
     "text": [
      "/var/folders/hf/11bf4b6s3972474l7z9gzdxr0000gn/T/ipykernel_13062/2219079201.py:3: FutureWarning: Setting an item of incompatible dtype is deprecated and will raise an error in a future version of pandas. Value '' has dtype incompatible with float64, please explicitly cast to a compatible dtype first.\n",
      "  df.fillna(\"\", inplace=True)\n"
     ]
    },
    {
     "name": "stdout",
     "output_type": "stream",
     "text": [
      "TIF_Results uploaded.\n"
     ]
    }
   ],
   "source": [
    "# Load and clean CSV\n",
    "df = pd.read_csv(\"TIF_Results.csv\")\n",
    "df.fillna(\"\", inplace=True)\n",
    "df = df.astype(str)\n",
    "df.columns = df.columns.str.replace(r\"[.$#[\\]/]\", \"\", regex=True)\n",
    "\n",
    "# Upload to Firebase\n",
    "folder_name = \"TIF\"\n",
    "file_name = \"TIF_Results\"\n",
    "ref = db.reference(f\"Results/{folder_name}/{file_name}\")\n",
    "ref.set(df.to_dict(orient=\"records\"))\n",
    "\n",
    "print(\"TIF_Results uploaded.\")"
   ]
  },
  {
   "cell_type": "code",
   "execution_count": 38,
   "id": "c704a46b-4f13-48c1-ada5-091ee57026c8",
   "metadata": {},
   "outputs": [
    {
     "name": "stdout",
     "output_type": "stream",
     "text": [
      "TIF_RekognitionResults uploaded.\n"
     ]
    }
   ],
   "source": [
    "df = pd.read_csv(\"TIF_RekognitionResults.csv\")\n",
    "df.fillna(\"\", inplace=True)\n",
    "df = df.astype(str)\n",
    "df.columns = df.columns.str.replace(r\"[.$#[\\]/]\", \"\", regex=True)\n",
    "\n",
    "folder_name = \"TIF\"\n",
    "file_name = \"TIF_RekognitionResults\"\n",
    "ref = db.reference(f\"Results/{folder_name}/{file_name}\")\n",
    "ref.set(df.to_dict(orient=\"records\"))\n",
    "\n",
    "print(\"TIF_RekognitionResults uploaded.\")\n"
   ]
  },
  {
   "cell_type": "code",
   "execution_count": 42,
   "id": "7c43a214-5bac-43ad-b32b-a0f46f4ba963",
   "metadata": {},
   "outputs": [
    {
     "name": "stdout",
     "output_type": "stream",
     "text": [
      "TIF_ImageProps_Results uploaded.\n"
     ]
    }
   ],
   "source": [
    "df = pd.read_csv(\"TIF_ImageProps_Results.csv\")\n",
    "df.fillna(\"\", inplace=True)\n",
    "df = df.astype(str)\n",
    "df.columns = df.columns.str.replace(r\"[.$#[\\]/]\", \"\", regex=True)\n",
    "\n",
    "folder_name = \"TIF\"\n",
    "file_name = \"TIF_ImageProps_Results\"\n",
    "ref = db.reference(f\"Results/{folder_name}/{file_name}\")\n",
    "ref.set(df.to_dict(orient=\"records\"))\n",
    "\n",
    "print(\"TIF_ImageProps_Results uploaded.\")\n"
   ]
  }
 ],
 "metadata": {
  "kernelspec": {
   "display_name": "Python [conda env:base] *",
   "language": "python",
   "name": "conda-base-py"
  },
  "language_info": {
   "codemirror_mode": {
    "name": "ipython",
    "version": 3
   },
   "file_extension": ".py",
   "mimetype": "text/x-python",
   "name": "python",
   "nbconvert_exporter": "python",
   "pygments_lexer": "ipython3",
   "version": "3.12.7"
  }
 },
 "nbformat": 4,
 "nbformat_minor": 5
}
